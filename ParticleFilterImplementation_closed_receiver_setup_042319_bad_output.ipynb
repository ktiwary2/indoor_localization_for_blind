{
 "cells": [
  {
   "cell_type": "code",
   "execution_count": 2,
   "metadata": {
    "collapsed": true
   },
   "outputs": [],
   "source": [
    "import numpy as np\n",
    "from matplotlib import pyplot as plt\n",
    "import seaborn as sns\n",
    "from sklearn.gaussian_process import GaussianProcessRegressor\n",
    "from sklearn.gaussian_process.kernels import RBF, ConstantKernel as C\n",
    "from copy import deepcopy\n",
    "import scipy\n",
    "np.random.seed(1)"
   ]
  },
  {
   "cell_type": "code",
   "execution_count": 3,
   "metadata": {
    "collapsed": true
   },
   "outputs": [],
   "source": [
    "\n",
    "# print(bp104_1)\n",
    "# print(bp104_2)\n",
    "# print(bp104_3)\n",
    "# print(bp104_4)\n",
    "\n",
    "#             for i in range (len(measurments)):\n",
    "#                 like_ = scipy.stats.norm.pdf(z_t[i], measurments[i][0].flatten(), measurments[i][1].flatten())\n",
    "#                 likelihood*=like_"
   ]
  },
  {
   "cell_type": "code",
   "execution_count": 4,
   "metadata": {
    "collapsed": true
   },
   "outputs": [],
   "source": [
    "'''\n",
    "create_singular_model: if True will creaet \n",
    "'''\n",
    "class MeasurmentModel:\n",
    "    def __init__(self, map_, bp104s, normed_consts, var_const = 1, create_singular_model = False):\n",
    "        self.map_ = map_\n",
    "        self.bp104_1, self.bp104_2, self.bp104_3, self.bp104_3 = bp104s \n",
    "        self.normed_consts = normed_consts\n",
    "        self.gp_models = None\n",
    "        self.var_const = var_const\n",
    "        self.kernel = C(1.0, (1e-3, 1e3)) * RBF(10, (1e-2, 1e2))\n",
    "        self.create_singular_model = create_singular_model\n",
    "        self.bp104_1_loc = [0.5, 2.5]\n",
    "        self.bp104_2_loc = [16.5,9.5]\n",
    "        self.bp104_3_loc = [18.5,2.5]\n",
    "        self.bp104_4_loc = [10.5,4.5]\n",
    "        \n",
    "        if self.create_singular_model:\n",
    "            # create one model for all beacons\n",
    "            print(\"Creating one gp model for all beacons.\")\n",
    "            self.gp_models = self._create_singular_gp_model()\n",
    "        else:\n",
    "            # Create four models - one per beacon\n",
    "            print(\"Creating four gp model for each beacons.\")\n",
    "            self.gp_models = []\n",
    "            self._create_four_gp_models()\n",
    "            \n",
    "    \"\"\"\n",
    "    Function gets liklihood of observing z_t at state_t based on the \n",
    "    GP regression model \n",
    "    z_t: actual measurment at time t\n",
    "    state_t: state of the particle at time t\n",
    "    \"\"\"\n",
    "    def get_likelihood(self, z_t, state_t):\n",
    "        if self.create_singular_model:\n",
    "            mu, sigma = self.predict(state_t)\n",
    "            l1, l2, l3, l4 = scipy.stats.norm.pdf(z_t, mu.flatten(), sigma.flatten())\n",
    "            likelihood = l1 * l2 * l3 * l4\n",
    "            if likelihood == 0:\n",
    "                return 1.e-300\n",
    "            else:\n",
    "                print('final_likelihood', likelihood)\n",
    "                return likelihood\n",
    "        else:\n",
    "            measurments = self.predict(state_t)\n",
    "            likelihood = 1.0\n",
    "            likelihood_ = scipy.stats.norm.pdf(z_t, measurments[:,0], np.diag(measurments[:,1]))\n",
    "            for i in range (likelihood_.shape[0]):\n",
    "                likelihood = likelihood *  likelihood_[i,i]\n",
    "            if likelihood == 0:\n",
    "                return 1.e-300 # avoid norm. problems\n",
    "            else:\n",
    "                return likelihood\n",
    "        \n",
    "    def predict(self, state):\n",
    "        if self.create_singular_model:\n",
    "            mu, sigma = self.gp_models.predict([[state[0], state[1]]], return_cov=True)\n",
    "            return [mu, sigma]\n",
    "        else:\n",
    "            measurment = []\n",
    "            for i in range(len(self.gp_models)):\n",
    "                mu, sigma = self.gp_models[i].predict([[state[0], state[1]]], return_cov=True)\n",
    "                measurment.append(np.array([mu.flatten()[0], sigma.flatten()[0]]))\n",
    "            return np.array(measurment)\n",
    "\n",
    "    def _get_beacon_dists(self, state):\n",
    "        bp104_1_dist = np.sqrt((state[0]-self.bp104_1_loc[0])**2 + (state[1] - self.bp104_1_loc[1])**2)\n",
    "        bp104_2_dist = np.sqrt((state[0]-self.bp104_2_loc[0])**2 + (state[1] - self.bp104_2_loc[1])**2)\n",
    "        bp104_3_dist = np.sqrt((state[0]-self.bp104_3_loc[0])**2 + (state[1] - self.bp104_3_loc[1])**2)\n",
    "        bp104_4_dist = np.sqrt((state[0]-self.bp104_4_loc[0])**2 + (state[1] - self.bp104_4_loc[1])**2)\n",
    "\n",
    "        dist_arr = np.array([bp104_1_dist, bp104_2_dist, bp104_3_dist, bp104_4_dist])\n",
    "        dist_arr = 1./dist_arr\n",
    "        normed_dist_arr = dist_arr / np.sum(dist_arr)\n",
    "        return normed_dist_arr\n",
    "    \n",
    "    def _create_four_gp_models(self):\n",
    "        self.gp_models.append(self._create_one_beacon_model(bp104_1))\n",
    "        self.gp_models.append(self._create_one_beacon_model(bp104_2))\n",
    "        self.gp_models.append(self._create_one_beacon_model(bp104_3))\n",
    "        self.gp_models.append(self._create_one_beacon_model(bp104_4))\n",
    "        print(\"Created 4 GP models\")\n",
    "        \n",
    "    def _create_singular_gp_model(self):\n",
    "        for i in range (bp104_1.shape[0]):\n",
    "            for j in range (bp104_1.shape[1]):    \n",
    "                X.append(np.array([i,j])) # just the state [0,0], [0,1] etc... \n",
    "                y.append(np.array([bp104_1[i,j], bp104_2[i,j], bp104_3[i,j], bp104_4[i,j]]))\n",
    "        X= np.array(X)\n",
    "        y= np.array(y)\n",
    "        dy = np.random.random(y.shape) * self.var_const\n",
    "        # Instantiate a Gaussian Process model\n",
    "        gp = GaussianProcessRegressor(kernel=self.kernel,normalize_y= True, alpha = dy,\n",
    "                                      n_restarts_optimizer=10)\n",
    "        \n",
    "        # Fit to data using Maximum Likelihood Estimation of the parameters\n",
    "        gp.fit(X,y)\n",
    "        return gp\n",
    "    \n",
    "    def _create_one_beacon_model(self, bp104_x):\n",
    "        X = []\n",
    "        y = []\n",
    "        for i in range (bp104_x.shape[0]):\n",
    "            for j in range (bp104_x.shape[1]):    \n",
    "                X.append(np.array([i,j])) # just the state [0,0], [0,1] etc... \n",
    "                y.append(bp104_x[i,j])\n",
    "\n",
    "        X= np.array(X)\n",
    "        y= np.array(y)\n",
    "        dy = np.random.random(y.shape)* self.var_const\n",
    "        # Instantiate a Gaussian Process model\n",
    "        gp_bp104x = GaussianProcessRegressor(kernel=self.kernel, alpha=dy,normalize_y= True,\n",
    "                                      n_restarts_optimizer=10)\n",
    "\n",
    "        # Fit to data using Maximum Likelihood Estimation of the parameters\n",
    "        gp_bp104x.fit(X,y)\n",
    "        return gp_bp104x \n",
    "    \n",
    "    def get_normalized_values(self, measurment):\n",
    "        #measurment should be four values \n",
    "        return np.array(measurment) - np.array(self.normed_consts)"
   ]
  },
  {
   "cell_type": "code",
   "execution_count": 5,
   "metadata": {
    "collapsed": true
   },
   "outputs": [],
   "source": [
    "class ParticleFilter:\n",
    "    def __init__(self, map_, numParticles, measurment_model, grid_size = [27,14], start_position= [0,4], \n",
    "                             motionNoise = [2.75, 1.25], sim_measurments=None, movement_offset = 3.0):\n",
    "        self.map_ = map_\n",
    "        self.numParticles = numParticles\n",
    "        self.measurment_model = measurment_model\n",
    "        self.start_position = start_position\n",
    "        self.grid_size = grid_size\n",
    "        self.particles_shape = [numParticles,2]\n",
    "        self.weights = None \n",
    "        self.prev_estimate = []\n",
    "        self.u_t = [0]\n",
    "        self.curr_position = start_position\n",
    "        self.sim_measurments = sim_measurments\n",
    "        self.simulated_idx = 0 \n",
    "        self.apriori_adjustment = [False]\n",
    "        self.movement_offset = movement_offset\n",
    "        ####################### define constants \n",
    "        self.motion_noise = motionNoise # tested over many iterations.\n",
    "        self.thres_bp104_1 = -10\n",
    "        self.thres_bp104_2 = -10\n",
    "        self.thres_bp104_3 = -10\n",
    "        self.thres_bp104_4 = -8\n",
    "        #######################\n",
    "        # initialize particles around start position\n",
    "#         self.particles = np.random.uniform(0, self.grid_size, self.particles_shape) \n",
    "        self.particles = np.random.normal(loc=start_position, scale=[2.0,1.5], size=self.particles_shape) \n",
    "        self.particles = self._check_particles_dimensions(self.particles)\n",
    "    \"\"\"\n",
    "    Note: sets the self.particles variables.\n",
    "    \"\"\"\n",
    "    def Sample_motion_model(self, normed_z_t= None, u_t= 0):\n",
    "        newParticles = []\n",
    "        ## TODO\n",
    "        # for each particle point, simulate their next position given the current control\n",
    "        if normed_z_t is not None:\n",
    "            change_priori, new_center = self._check_apriori_estimate(normed_z_t)\n",
    "            # we want to use this apriori calculation most of the time... \n",
    "        else: \n",
    "            change_priori = False\n",
    "        if change_priori and (self.apriori_adjustment[-1] == False):\n",
    "            self.apriori_adjustment.append(True)\n",
    "            new_particles = self._center_new_particles(new_center)\n",
    "            newParticles = self._check_particles_dimensions(self.particles) ####\n",
    "            self.particles = new_particles\n",
    "        else:\n",
    "            self.apriori_adjustment.append(False)\n",
    "            newParticles = np.array([self._simulateNextPosition(x, u_t) for x in self.particles])\n",
    "            newParticles = self._check_particles_dimensions(self.particles) ####\n",
    "            self.particles = newParticles\n",
    "        ####\n",
    "        \n",
    "    ##### NOTE:::: CURRENTLY HARD CODED. \n",
    "    def _check_particles_dimensions(self, particles):\n",
    "        a= True \n",
    "        if a: \n",
    "            for i in range (len(particles)):\n",
    "                x,y = particles[i]\n",
    "                if x < 0:\n",
    "                    while(particles[i][0] < 0):\n",
    "                        particles[i][0]+=1\n",
    "                if x > 27:\n",
    "                    while(particles[i][0] > 27):\n",
    "                        particles[i][0]-=1\n",
    "                if y < 0:\n",
    "                    while(particles[i][1] < 0):\n",
    "                        particles[i][1]+=1\n",
    "                if y > 27:\n",
    "                    while(particles[i][1] > 14):\n",
    "                        particles[i][1]-=1\n",
    "            return particles\n",
    "        else:\n",
    "            return particles\n",
    "    #########################  NOTE:::: CURRENTLY HARD CODED. \n",
    "\n",
    "    def Sample_measurment_model(self, normed_z_t= None):\n",
    "        if normed_z_t is None:\n",
    "            print(\"Collecting measurment from Sample_measurment Function\")\n",
    "            normed_z_t = self.get_z_t(0)\n",
    "        if self.apriori_adjustment[-1] == False:\n",
    "            weights = np.array([self.measurment_model.get_likelihood(normed_z_t, x) for x in self.particles])\n",
    "            norm_weights = weights / np.sum(weights)\n",
    "            return norm_weights\n",
    "        else:\n",
    "            print(\"Resetting weights to uniform dist.\")\n",
    "            weights = np.ones(self.numParticles, dtype=float) / self.numParticles\n",
    "            return weights\n",
    "\n",
    "    def get_z_t(self, keyboard = 0):\n",
    "        if keyboard == 1:\n",
    "            bp104_1 = float(input(\"bp104_1\"))\n",
    "            bp104_2 = float(input(\"bp104_2\"))\n",
    "            bp104_3 = float(input(\"bp104_3\"))\n",
    "            bp104_4 = float(input(\"bp104_4\"))\n",
    "            return self.measurment_model.get_normalized_values([bp104_1, bp104_2, bp104_3, bp104_4])\n",
    "        elif keyboard == 0 :\n",
    "            idx = int(input(\"Type keyboard index: \"))\n",
    "            bp104_1, bp104_2, bp104_3, bp104_4 = self.measurment_model.get_normalized_values(\n",
    "                                                    simulated_measurments[idx])\n",
    "        elif keyboard == 2:\n",
    "            bp104_1, bp104_2, bp104_3, bp104_4 = self.measurment_model.get_normalized_values(\n",
    "                                                    self.sim_measurments[self.simulated_idx])\n",
    "            self.simulated_idx+=1\n",
    "            return np.array([float(bp104_1), float(bp104_2), float(bp104_3), float(bp104_4)])\n",
    "    \n",
    "    def calc_position(self):\n",
    "        position = self.weights @ self.particles\n",
    "        self.prev_estimate.append(self.curr_position)\n",
    "        \n",
    "        #######################################################\n",
    "        if self._permissibility(position):\n",
    "            #position = np.mean(self.particles,axis=0)\n",
    "            self.curr_position = position\n",
    "        else:\n",
    "            #position = np.mean(self.particles,axis=0)\n",
    "            temp_particles = [[position[0], position[1]]]\n",
    "            position = self._check_particles_dimensions(temp_particles)[0]\n",
    "            self.curr_position = position\n",
    "        #######################################################\n",
    "    \n",
    "        ##### Since we resampled the particles with the new space, we cannot use prior info anymore!!!\n",
    "        if self.apriori_adjustment[-1] == True:\n",
    "            self.u_t.append([0,0])\n",
    "            return position[0], position[1] ## return position for now ::::\n",
    "        #####\n",
    "        \n",
    "        u_t = [position[0]-self.prev_estimate[-1][0], position[1]-self.prev_estimate[-1][1]]\n",
    "        print('UT::: ', u_t)\n",
    "        \n",
    "        ######\n",
    "        # perform some checks to see if the new estimate makes sense compared to previous estimates. \n",
    "        #####\n",
    "        \n",
    "        ######\n",
    "        ## it takes a lot for the estimate to shift laterally vs. up or down..\n",
    "        ######\n",
    "        if u_t[1] > 1.0: #and u_t[1]-u_t[0] > 2 and u_t[1]-u_t[0] < 6: # the estimate has shifted very right \n",
    "            print(\"Going RIGHT\", u_t[1])\n",
    "            control = 2 ## RIGHT\n",
    "            dt = u_t[1]\n",
    "\n",
    "        elif u_t[1] < -1.00: #and u_t[1]-u_t[0] > 2 and u_t[1]-u_t[0] < 6: # the estimate has shifted very right \n",
    "            print(\"Going LEFT\", u_t[1])\n",
    "            control = 3 ## left\n",
    "            dt = u_t[1]\n",
    "            \n",
    "\n",
    "        elif (u_t[0] > 0.10): \n",
    "            # the estimate has shifted DOWN \n",
    "            print(\"Going DOWN\", u_t[0])\n",
    "            control = 1 ## DOWN\n",
    "            dt = u_t[0]\n",
    "            \n",
    "        elif u_t[0] < -0.30 and u_t[0]-u_t[1] > 2 and (u_t[0]-u_t[1] < 6): # the estimate has shifted UP \n",
    "            print(\"Going UP\", u_t[0])\n",
    "            control = 4 ## UP\n",
    "            dt = u_t[0]\n",
    "            \n",
    "        else : \n",
    "            print(\"HALTING\")\n",
    "            control = 0 ## HALT\n",
    "            dt = 0\n",
    "        self.u_t.append([control,dt])\n",
    "        \n",
    "        return position[0], position[1] ## return position for now ::::\n",
    "    \n",
    "    def _resampling(self):\n",
    "        print(\"Resampling\")\n",
    "        weighted_choices = np.random.choice(len(self.particles), len(self.particles), p=self.weights)\n",
    "        newParticles = self.particles[weighted_choices]\n",
    "        newParticles = self._check_particles_dimensions(self.particles) ####\n",
    "\n",
    "        self.particles = newParticles  \n",
    "        \n",
    "    def _low_variance_resampling(self, particles, weights):\n",
    "        \"\"\"\n",
    "        low variance re-sampling\n",
    "        \"\"\"\n",
    "\n",
    "        Neff = 1.0 / (particles.dot(particles.T))[0, 0]  # Effective particle number\n",
    "        if Neff < (self.numParticles / 2.0):\n",
    "            print(\"Performing low_variance_resampling\")\n",
    "            wcum = np.cumsum(weights)\n",
    "            base = np.cumsum(weights * 0.0 + 1 / self.numParticles) - 1 / self.numParticles\n",
    "            resampleid = base + np.random.rand(base.shape[0]) / self.numParticles\n",
    "\n",
    "            inds = []\n",
    "            ind = 0\n",
    "            for ip in range(self.numParticles):\n",
    "                while resampleid[ip] > wcum[ind]:\n",
    "                    ind += 1\n",
    "                inds.append(ind)\n",
    "            new_particles = particles[inds]\n",
    "            new_weights = np.zeros((1, self.numParticles)) + 1.0 / self.numParticles  # init weight\n",
    "#         print(new_particles, new_weights)\n",
    "        print('new_particles, new_weights', new_particles.shape, new_weights.shape)\n",
    "        return new_particles, new_weights.flatten()\n",
    "        \n",
    "    def _simulateNextPosition(self, prev_estimate, u_t_tuple):\n",
    "        x, y = prev_estimate[0], prev_estimate[1]\n",
    "        u_t, dt = u_t_tuple\n",
    "        \n",
    "        if abs(dt) < 1 and u_t == 1:\n",
    "            dt*=self.movement_offset\n",
    "        elif abs(dt) > 1 and u_t == 1 :\n",
    "            dt*=(self.movement_offset/2)\n",
    "            \n",
    "        if u_t == 0: \n",
    "            ## HALT\n",
    "#             print(\"control: HALT\")\n",
    "            x += np.random.normal(0, self.motion_noise[0])\n",
    "            y += np.random.normal(0, self.motion_noise[1])\n",
    "        if u_t == 1: \n",
    "            ## DOWN\n",
    "#             print(\"control: DOWN\")\n",
    "            x = x + (dt) + np.random.normal(0, self.motion_noise[0])\n",
    "            y += np.random.normal(0, self.motion_noise[1])\n",
    "        if u_t == 2: \n",
    "#             print(\"control: RIGHT\")\n",
    "            ## RIGHT\n",
    "            x += np.random.normal(0, self.motion_noise[1])\n",
    "            y = y + (dt) + np.random.normal(0, self.motion_noise[0])\n",
    "        if u_t == 3: \n",
    "            ## LEFT\n",
    "#             print(\"control: LEFT\")\n",
    "            x += np.random.normal(0, self.motion_noise[1])\n",
    "            y = y + (dt) - np.random.normal(0, self.motion_noise[0])\n",
    "        if u_t == 4: \n",
    "            ## UP\n",
    "#             print(\"control: UP\")\n",
    "            x = x + (dt) - np.random.normal(0, self.motion_noise[0])\n",
    "            y += np.random.normal(0, self.motion_noise[1])\n",
    "            \n",
    "        next_estimate = np.array(x,y)\n",
    "        return next_estimate\n",
    "            \n",
    "    # this method will be correct most of the time because of the way the values are distributed.\n",
    "    def _check_apriori_estimate(self, normed_z_t):\n",
    "        if normed_z_t[0] >= self.thres_bp104_1:\n",
    "            print(\"bp104_1 case matched\", normed_z_t[0])\n",
    "            return True, [1.0,3.5]\n",
    "\n",
    "        if normed_z_t[1] >= self.thres_bp104_2:\n",
    "            print(\"bp104_2 case matched\", normed_z_t[1])\n",
    "            return True, [18.5,10.0]\n",
    "\n",
    "        if normed_z_t[2] >= self.thres_bp104_3:\n",
    "            print(\"bp104_3 case matched\", normed_z_t[2])\n",
    "            return True, [19.0,5.5]\n",
    "\n",
    "        if normed_z_t[3] >= self.thres_bp104_4:\n",
    "            print(\"bp104_4 case matched\", normed_z_t[3])\n",
    "            return True, [9.5,5.5]\n",
    "        ## if none of these conditions are met\n",
    "        return False, None\n",
    "    \n",
    "    def _center_new_particles(self, new_center):\n",
    "        print(\"_center_new_particles with a new center\", new_center)\n",
    "        new_particles = np.random.normal(loc=new_center, scale=[3.0,2.0], size= self.particles_shape) \n",
    "        return new_particles\n",
    "\n",
    "    \"\"\"\n",
    "    get only permissible particles on the map. \n",
    "    \"\"\"\n",
    "    def _filter_permissible_particles(self):\n",
    "        for i in range(len(self.particles)):\n",
    "            if not self._permissibility(self.particles[i]):\n",
    "                pass\n",
    "    def _get_straight_line(self, pt1, pt2):\n",
    "        np.polyfit(pt1, pt2)\n",
    "    \"\"\"\n",
    "    define if a position is permissible according to the map. \n",
    "    \"\"\"\n",
    "    def _permissibility(self, position):\n",
    "        a,b= np.where(self.map_ == 1)\n",
    "        x,y = position\n",
    "        if x in a and y in b:\n",
    "            return False\n",
    "    def plotParticles(self, particles,t):\n",
    "        new_map_ = np.zeros_like(self.map_)\n",
    "        new_map_ = np.zeros([27, 14])\n",
    "        for i in range(len(particles)): \n",
    "            x,y = particles[i]\n",
    "#             if x < 0:\n",
    "#                 x = 27.-x\n",
    "#             if y < 0:\n",
    "#                 y = 14.-y\n",
    "#             new_map_[int(x)%50, int(y)%50] = 1.\n",
    "#             new_map_[int(x), int(y)] = 1.\n",
    "            new_map_[int(x)%27, int(y)%14] = 1.\n",
    "            \n",
    "        plt.figure(); plt.imshow(new_map_);plt.title(\"Particles at time {}\".format(t))\n",
    "        \n",
    "    def run_particle_filter(self, N, control = 0):\n",
    "        weights_history = []\n",
    "        particle_history = []\n",
    "        z_history = []\n",
    "        position_history = []\n",
    "        position_history.append(self.start_position)\n",
    "        print('position_history', position_history)\n",
    "        for t in range(N):\n",
    "            print(\"------------------------------ at time step\", t)\n",
    "            print(\"Get measurments:\")\n",
    "            normed_z_t = self.get_z_t(2)\n",
    "            z_history.append(normed_z_t)    \n",
    "            #if not the initial round, generate new samples\n",
    "            if (t > 0):\n",
    "                self.Sample_motion_model(normed_z_t=normed_z_t, u_t = self.u_t[-1])\n",
    "            if t == 0 :\n",
    "                self.plotParticles(self.particles, 0)\n",
    "                \n",
    "            #assign weights to each particles\n",
    "            self.weights = self.Sample_measurment_model(normed_z_t)\n",
    "#             print('weights:::', self.weights, np.sum(self.weights))\n",
    "            weights_history.append(self.weights)\n",
    "                       \n",
    "            #plot particles\n",
    "            self.plotParticles(self.particles, t)\n",
    "            particle_history.append(self.particles)\n",
    "                       \n",
    "            #estimate current position\n",
    "            estimatePosition = self.calc_position()\n",
    "            position_history.append(estimatePosition)\n",
    "            print('estimatePosition', estimatePosition)\n",
    "            \n",
    "            #resample the particles if number of effective particles is small\n",
    "            ## Resampling messes it up!\n",
    "            if self.apriori_adjustment[-1] == False:\n",
    "#                 self._resampling()          \n",
    "                self.particles, self.weights = self._low_variance_resampling(self.particles, self.weights)\n",
    "    \n",
    "        return weights_history, particle_history, z_history, position_history, self.apriori_adjustment, self.u_t"
   ]
  },
  {
   "cell_type": "code",
   "execution_count": 6,
   "metadata": {},
   "outputs": [
    {
     "name": "stdout",
     "output_type": "stream",
     "text": [
      "[-41 -44 -44 -46]\n"
     ]
    },
    {
     "data": {
      "text/plain": [
       "{'divide': 'warn', 'over': 'warn', 'under': 'ignore', 'invalid': 'warn'}"
      ]
     },
     "execution_count": 6,
     "metadata": {},
     "output_type": "execute_result"
    }
   ],
   "source": [
    "map_ = np.load(\"/Users/kushagratiwary/Documents/ECE445/map_data/final_041719_0112/map_binary_.npy\")\n",
    "bp104_1 = np.load(\"/Users/kushagratiwary/Documents/ECE445/map_data/final_041719_0112/bp104_1.npy\")\n",
    "bp104_2 = np.load(\"/Users/kushagratiwary/Documents/ECE445/map_data/final_041719_0112/bp104_2.npy\")\n",
    "bp104_3 = np.load(\"/Users/kushagratiwary/Documents/ECE445/map_data/final_041719_0112/bp104_3.npy\")\n",
    "bp104_4 = np.load(\"/Users/kushagratiwary/Documents/ECE445/map_data/final_041719_0112/bp104_4.npy\")\n",
    "norm_constants = np.load(\"/Users/kushagratiwary/Documents/ECE445/map_data/final_041719_0112/norm_constants.npy\")\n",
    "\n",
    "\n",
    "measurments = [\n",
    "    [-51.,-80.,-66.,-62.],\n",
    "    [-53.,-80.,-67.,-62.],\n",
    "\n",
    "    [-57.,-80.,-62.,-58.],\n",
    "    [-57.,-76.,-64.,-56],\n",
    "    \n",
    "    [-59.,-66.,-61.,-55.],\n",
    "    [-59.,-63.,-63.,-54.],\n",
    "    \n",
    "    [-62.,-59.,-61.,-56.],\n",
    "    [-61.,-60.,-54.,-58.],\n",
    "    \n",
    "    [-66.,-59.,-57.,-61.],\n",
    "    [-65.,-56.,-53.,-63.],\n",
    "    \n",
    "    [-68.,-52.,-56.,-62.],\n",
    "    [-70.,-53.,-55.,-64.],\n",
    "\n",
    "    [-75.,-57.,-57.,-66.],\n",
    "    [-75.,-60.,-63.,-68.],\n",
    "\n",
    "    [-72.,-61.,-65.,-68.],\n",
    "    [-75.,-59.,-63.,-68.]]\n",
    "\n",
    "\n",
    "simulated_measurments = np.array(measurments).astype(float)\n",
    "print(norm_constants)\n",
    "np.seterr(divide='ignore', invalid='ignore')"
   ]
  },
  {
   "cell_type": "code",
   "execution_count": 7,
   "metadata": {},
   "outputs": [
    {
     "name": "stdout",
     "output_type": "stream",
     "text": [
      "Creating four gp model for each beacons.\n",
      "Created 4 GP models\n"
     ]
    }
   ],
   "source": [
    "GP_measurment_model = MeasurmentModel(map_, np.array([bp104_1, bp104_2, bp104_3, bp104_4]), \n",
    "                                      norm_constants, var_const = 3)"
   ]
  },
  {
   "cell_type": "code",
   "execution_count": 8,
   "metadata": {
    "scrolled": true
   },
   "outputs": [
    {
     "name": "stdout",
     "output_type": "stream",
     "text": [
      "position_history [[0, 4]]\n",
      "------------------------------ at time step 0\n",
      "Get measurments:\n",
      "UT:::  [0.8677466198955501, 0.6869942112352714]\n",
      "Going DOWN 0.8677466198955501\n",
      "estimatePosition (0.8677466198955501, 4.686994211235271)\n",
      "Performing low_variance_resampling\n",
      "new_particles, new_weights (800, 2) (1, 800)\n",
      "------------------------------ at time step 1\n",
      "Get measurments:\n",
      "UT:::  [-0.16052175013392544, 0.08471739631042752]\n",
      "HALTING\n",
      "estimatePosition (0.7072248697616247, 4.771711607545699)\n",
      "Performing low_variance_resampling\n",
      "new_particles, new_weights (800, 2) (1, 800)\n",
      "------------------------------ at time step 2\n",
      "Get measurments:\n",
      "UT:::  [1.0135464907793552, -1.1088484484620853]\n",
      "Going LEFT -1.1088484484620853\n",
      "estimatePosition (1.7207713605409798, 3.6628631590836136)\n",
      "Performing low_variance_resampling\n",
      "new_particles, new_weights (800, 2) (1, 800)\n",
      "------------------------------ at time step 3\n",
      "Get measurments:\n",
      "UT:::  [0.5205659651370027, -0.4320153088303802]\n",
      "Going DOWN 0.5205659651370027\n",
      "estimatePosition (2.2413373256779825, 3.2308478502532334)\n",
      "Performing low_variance_resampling\n",
      "new_particles, new_weights (800, 2) (1, 800)\n",
      "------------------------------ at time step 4\n",
      "Get measurments:\n",
      "UT:::  [0.3301864575633031, 0.15143710833472523]\n",
      "Going DOWN 0.3301864575633031\n",
      "estimatePosition (2.5715237832412856, 3.3822849585879586)\n",
      "Performing low_variance_resampling\n",
      "new_particles, new_weights (800, 2) (1, 800)\n",
      "------------------------------ at time step 5\n",
      "Get measurments:\n",
      "bp104_4 case matched -8.0\n",
      "_center_new_particles with a new center [9.5, 5.5]\n",
      "Resetting weights to uniform dist.\n",
      "estimatePosition (9.402404232829833, 5.452095082035064)\n",
      "------------------------------ at time step 6\n",
      "Get measurments:\n",
      "UT:::  [0.6467527478997521, -0.7435611102797646]\n",
      "Going DOWN 0.6467527478997521\n",
      "estimatePosition (10.049156980729585, 4.708533971755299)\n",
      "Performing low_variance_resampling\n",
      "new_particles, new_weights (800, 2) (1, 800)\n",
      "------------------------------ at time step 7\n",
      "Get measurments:\n",
      "bp104_3 case matched -10.0\n",
      "_center_new_particles with a new center [19.0, 5.5]\n",
      "Resetting weights to uniform dist.\n",
      "estimatePosition (19.031843684009715, 5.571572075509458)\n",
      "------------------------------ at time step 8\n",
      "Get measurments:\n",
      "UT:::  [-1.1563081200342076, 0.02299073409763608]\n",
      "HALTING\n",
      "estimatePosition (17.875535563975507, 5.594562809607094)\n",
      "Performing low_variance_resampling\n",
      "new_particles, new_weights (800, 2) (1, 800)\n",
      "------------------------------ at time step 9\n",
      "Get measurments:\n",
      "bp104_3 case matched -9.0\n",
      "_center_new_particles with a new center [19.0, 5.5]\n",
      "Resetting weights to uniform dist.\n",
      "estimatePosition (18.80540147916711, 5.46156951558017)\n",
      "------------------------------ at time step 10\n",
      "Get measurments:\n",
      "bp104_2 case matched -8.0\n",
      "UT:::  [-0.23584035051105445, 0.7033135250806817]\n",
      "HALTING\n",
      "estimatePosition (18.569561128656055, 6.164883040660851)\n",
      "Performing low_variance_resampling\n",
      "new_particles, new_weights (800, 2) (1, 800)\n",
      "------------------------------ at time step 11\n",
      "Get measurments:\n",
      "bp104_2 case matched -9.0\n",
      "_center_new_particles with a new center [18.5, 10.0]\n",
      "Resetting weights to uniform dist.\n",
      "estimatePosition (18.608441170625525, 10.026701879922381)\n",
      "------------------------------ at time step 12\n",
      "Get measurments:\n",
      "UT:::  [1.9431134681500382, 0.04325727914720723]\n",
      "Going DOWN 1.9431134681500382\n",
      "estimatePosition (20.551554638775563, 10.069959159069588)\n",
      "Performing low_variance_resampling\n",
      "new_particles, new_weights (800, 2) (1, 800)\n",
      "------------------------------ at time step 13\n",
      "Get measurments:\n",
      "UT:::  [1.0435095885881616, 0.8693880233680744]\n",
      "Going DOWN 1.0435095885881616\n",
      "estimatePosition (21.595064227363725, 10.939347182437663)\n",
      "Performing low_variance_resampling\n",
      "new_particles, new_weights (800, 2) (1, 800)\n"
     ]
    },
    {
     "data": {
      "image/png": "[encoded data removed]",
      "text/plain": [
       "<Figure size 432x288 with 1 Axes>"
      ]
     },
     "metadata": {
      "needs_background": "light"
     },
     "output_type": "display_data"
    },
    {
     "data": {
      "image/png": "[encoded data removed]",
      "text/plain": [
       "<Figure size 432x288 with 1 Axes>"
      ]
     },
     "metadata": {
      "needs_background": "light"
     },
     "output_type": "display_data"
    },
    {
     "data": {
      "image/png": "[encoded data removed]",
      "text/plain": [
       "<Figure size 432x288 with 1 Axes>"
      ]
     },
     "metadata": {
      "needs_background": "light"
     },
     "output_type": "display_data"
    },
    {
     "data": {
      "image/png": "[encoded data removed]",
      "text/plain": [
       "<Figure size 432x288 with 1 Axes>"
      ]
     },
     "metadata": {
      "needs_background": "light"
     },
     "output_type": "display_data"
    },
    {
     "data": {
      "image/png": "[encoded data removed]",
      "text/plain": [
       "<Figure size 432x288 with 1 Axes>"
      ]
     },
     "metadata": {
      "needs_background": "light"
     },
     "output_type": "display_data"
    },
    {
     "data": {
      "image/png": "[encoded data removed]",
      "text/plain": [
       "<Figure size 432x288 with 1 Axes>"
      ]
     },
     "metadata": {
      "needs_background": "light"
     },
     "output_type": "display_data"
    },
    {
     "data": {
      "image/png": "[encoded data removed]",
      "text/plain": [
       "<Figure size 432x288 with 1 Axes>"
      ]
     },
     "metadata": {
      "needs_background": "light"
     },
     "output_type": "display_data"
    },
    {
     "data": {
      "image/png": "[encoded data removed]",
      "text/plain": [
       "<Figure size 432x288 with 1 Axes>"
      ]
     },
     "metadata": {
      "needs_background": "light"
     },
     "output_type": "display_data"
    },
    {
     "data": {
      "image/png": "[encoded data removed]",
      "text/plain": [
       "<Figure size 432x288 with 1 Axes>"
      ]
     },
     "metadata": {
      "needs_background": "light"
     },
     "output_type": "display_data"
    },
    {
     "data": {
      "image/png": "[encoded data removed]",
      "text/plain": [
       "<Figure size 432x288 with 1 Axes>"
      ]
     },
     "metadata": {
      "needs_background": "light"
     },
     "output_type": "display_data"
    },
    {
     "data": {
      "image/png": "[encoded data removed]",
      "text/plain": [
       "<Figure size 432x288 with 1 Axes>"
      ]
     },
     "metadata": {
      "needs_background": "light"
     },
     "output_type": "display_data"
    },
    {
     "data": {
      "image/png": "[encoded data removed]",
      "text/plain": [
       "<Figure size 432x288 with 1 Axes>"
      ]
     },
     "metadata": {
      "needs_background": "light"
     },
     "output_type": "display_data"
    },
    {
     "data": {
      "image/png": "[encoded data removed]",
      "text/plain": [
       "<Figure size 432x288 with 1 Axes>"
      ]
     },
     "metadata": {
      "needs_background": "light"
     },
     "output_type": "display_data"
    },
    {
     "data": {
      "image/png": "[encoded data removed]",
      "text/plain": [
       "<Figure size 432x288 with 1 Axes>"
      ]
     },
     "metadata": {
      "needs_background": "light"
     },
     "output_type": "display_data"
    },
    {
     "data": {
      "image/png": "[encoded data removed]",
      "text/plain": [
       "<Figure size 432x288 with 1 Axes>"
      ]
     },
     "metadata": {
      "needs_background": "light"
     },
     "output_type": "display_data"
    }
   ],
   "source": [
    "Particle_filter = ParticleFilter(map_, 800, GP_measurment_model, grid_size = [27,14], start_position= [0,4], \n",
    "                                 motionNoise=[2.75, 1.25], sim_measurments= measurments, movement_offset = 10.0)\n",
    "weights_history, particle_history, z_history, position_history, apriori_adjustment, u_t_pf_hist \\\n",
    "                    = Particle_filter.run_particle_filter(14)"
   ]
  },
  {
   "cell_type": "code",
   "execution_count": 9,
   "metadata": {
    "scrolled": true
   },
   "outputs": [
    {
     "name": "stdout",
     "output_type": "stream",
     "text": [
      "position_history -1 [0, 4]\n",
      "position_history 0 (0.8677466198955501, 4.686994211235271)\n",
      "position_history 1 (0.7072248697616247, 4.771711607545699)\n",
      "position_history 2 (1.7207713605409798, 3.6628631590836136)\n",
      "position_history 3 (2.2413373256779825, 3.2308478502532334)\n",
      "position_history 4 (2.5715237832412856, 3.3822849585879586)\n",
      "position_history 5 (9.402404232829833, 5.452095082035064)\n",
      "position_history 6 (10.049156980729585, 4.708533971755299)\n",
      "position_history 7 (19.031843684009715, 5.571572075509458)\n",
      "position_history 8 (17.875535563975507, 5.594562809607094)\n",
      "position_history 9 (18.80540147916711, 5.46156951558017)\n",
      "position_history 10 (18.569561128656055, 6.164883040660851)\n",
      "position_history 11 (18.608441170625525, 10.026701879922381)\n",
      "position_history 12 (20.551554638775563, 10.069959159069588)\n",
      "position_history 13 (21.595064227363725, 10.939347182437663)\n",
      "[9.40240423 5.45709508]\n",
      "[9.40240423 5.45709508]\n",
      "apriori_adjustment -1 False\n",
      "apriori_adjustment 0 False\n",
      "apriori_adjustment 1 False\n",
      "apriori_adjustment 2 False\n",
      "apriori_adjustment 3 False\n",
      "apriori_adjustment 4 True\n",
      "apriori_adjustment 5 False\n",
      "apriori_adjustment 6 True\n",
      "apriori_adjustment 7 False\n",
      "apriori_adjustment 8 True\n",
      "apriori_adjustment 9 False\n",
      "apriori_adjustment 10 True\n",
      "apriori_adjustment 11 False\n",
      "apriori_adjustment 12 False\n",
      "u_t -1 0\n",
      "u_t 0 [1, 0.8677466198955501]\n",
      "u_t 1 [0, 0]\n",
      "u_t 2 [3, -1.1088484484620853]\n",
      "u_t 3 [1, 0.5205659651370027]\n",
      "u_t 4 [1, 0.3301864575633031]\n",
      "u_t 5 [0, 0]\n",
      "u_t 6 [1, 0.6467527478997521]\n",
      "u_t 7 [0, 0]\n",
      "u_t 8 [0, 0]\n",
      "u_t 9 [0, 0]\n",
      "u_t 10 [0, 0]\n",
      "u_t 11 [0, 0]\n",
      "u_t 12 [1, 1.9431134681500382]\n",
      "u_t 13 [1, 1.0435095885881616]\n"
     ]
    },
    {
     "data": {
      "text/plain": [
       "[None,\n",
       " None,\n",
       " None,\n",
       " None,\n",
       " None,\n",
       " None,\n",
       " None,\n",
       " None,\n",
       " None,\n",
       " None,\n",
       " None,\n",
       " None,\n",
       " None,\n",
       " None,\n",
       " None]"
      ]
     },
     "execution_count": 9,
     "metadata": {},
     "output_type": "execute_result"
    }
   ],
   "source": [
    "[print ('position_history',i-1, position_history[i]) for i in range (len(position_history))]\n",
    "print(weights_history[5]@particle_history[5])\n",
    "print(np.mean(particle_history[5], axis=0))\n",
    "assert(weights_history[4].all() == (np.ones(800)/800).all() )\n",
    "\n",
    "[print ('apriori_adjustment', i-1, apriori_adjustment[i]) for i in range (len(apriori_adjustment))]\n",
    "[print ('u_t', i-1, u_t_pf_hist[i]) for i in range (len(u_t_pf_hist))]"
   ]
  },
  {
   "cell_type": "code",
   "execution_count": null,
   "metadata": {
    "collapsed": true
   },
   "outputs": [],
   "source": []
  },
  {
   "cell_type": "code",
   "execution_count": 10,
   "metadata": {
    "scrolled": false
   },
   "outputs": [
    {
     "name": "stdout",
     "output_type": "stream",
     "text": [
      "0 4\n",
      "0.8677466198955501 4.686994211235271\n",
      "0.7072248697616247 4.771711607545699\n",
      "1.7207713605409798 3.6628631590836136\n",
      "2.2413373256779825 3.2308478502532334\n",
      "2.5715237832412856 3.3822849585879586\n",
      "9.402404232829833 5.452095082035064\n",
      "10.049156980729585 4.708533971755299\n",
      "19.031843684009715 5.571572075509458\n",
      "17.875535563975507 5.594562809607094\n",
      "18.80540147916711 5.46156951558017\n",
      "18.569561128656055 6.164883040660851\n",
      "18.608441170625525 10.026701879922381\n",
      "20.551554638775563 10.069959159069588\n",
      "21.595064227363725 10.939347182437663\n"
     ]
    },
    {
     "data": {
      "image/png": "[encoded data removed]",
      "text/plain": [
       "<Figure size 432x288 with 1 Axes>"
      ]
     },
     "metadata": {
      "needs_background": "light"
     },
     "output_type": "display_data"
    },
    {
     "data": {
      "image/png": "[encoded data removed]",
      "text/plain": [
       "<Figure size 432x288 with 1 Axes>"
      ]
     },
     "metadata": {
      "needs_background": "light"
     },
     "output_type": "display_data"
    },
    {
     "data": {
      "image/png": "[encoded data removed]",
      "text/plain": [
       "<Figure size 432x288 with 1 Axes>"
      ]
     },
     "metadata": {
      "needs_background": "light"
     },
     "output_type": "display_data"
    },
    {
     "data": {
      "image/png": "[encoded data removed]",
      "text/plain": [
       "<Figure size 432x288 with 1 Axes>"
      ]
     },
     "metadata": {
      "needs_background": "light"
     },
     "output_type": "display_data"
    },
    {
     "data": {
      "image/png": "[encoded data removed]",
      "text/plain": [
       "<Figure size 432x288 with 1 Axes>"
      ]
     },
     "metadata": {
      "needs_background": "light"
     },
     "output_type": "display_data"
    },
    {
     "data": {
      "image/png": "[encoded data removed]",
      "text/plain": [
       "<Figure size 432x288 with 1 Axes>"
      ]
     },
     "metadata": {
      "needs_background": "light"
     },
     "output_type": "display_data"
    },
    {
     "data": {
      "image/png": "[encoded data removed]",
      "text/plain": [
       "<Figure size 432x288 with 1 Axes>"
      ]
     },
     "metadata": {
      "needs_background": "light"
     },
     "output_type": "display_data"
    },
    {
     "data": {
      "image/png": "[encoded data removed]",
      "text/plain": [
       "<Figure size 432x288 with 1 Axes>"
      ]
     },
     "metadata": {
      "needs_background": "light"
     },
     "output_type": "display_data"
    },
    {
     "data": {
      "image/png": "[encoded data removed]",
      "text/plain": [
       "<Figure size 432x288 with 1 Axes>"
      ]
     },
     "metadata": {
      "needs_background": "light"
     },
     "output_type": "display_data"
    },
    {
     "data": {
      "image/png": "[encoded data removed]",
      "text/plain": [
       "<Figure size 432x288 with 1 Axes>"
      ]
     },
     "metadata": {
      "needs_background": "light"
     },
     "output_type": "display_data"
    },
    {
     "data": {
      "image/png": "[encoded data removed]",
      "text/plain": [
       "<Figure size 432x288 with 1 Axes>"
      ]
     },
     "metadata": {
      "needs_background": "light"
     },
     "output_type": "display_data"
    },
    {
     "data": {
      "image/png": "[encoded data removed]",
      "text/plain": [
       "<Figure size 432x288 with 1 Axes>"
      ]
     },
     "metadata": {
      "needs_background": "light"
     },
     "output_type": "display_data"
    },
    {
     "data": {
      "image/png": "[encoded data removed]",
      "text/plain": [
       "<Figure size 432x288 with 1 Axes>"
      ]
     },
     "metadata": {
      "needs_background": "light"
     },
     "output_type": "display_data"
    },
    {
     "data": {
      "image/png": "[encoded data removed]",
      "text/plain": [
       "<Figure size 432x288 with 1 Axes>"
      ]
     },
     "metadata": {
      "needs_background": "light"
     },
     "output_type": "display_data"
    },
    {
     "data": {
      "image/png": "[encoded data removed]",
      "text/plain": [
       "<Figure size 432x288 with 1 Axes>"
      ]
     },
     "metadata": {
      "needs_background": "light"
     },
     "output_type": "display_data"
    }
   ],
   "source": [
    "# new_map_ = deepcopy(map_)\n",
    "# new_map_c = np.zeros((map_.shape[0],map_.shape[1],3))\n",
    "# new_map_c[:,:,2] = new_map_ \n",
    "for i in range(len(position_history)): \n",
    "    new_map_ = deepcopy(map_)\n",
    "    new_map_c = np.zeros((map_.shape[0],map_.shape[1],3))\n",
    "    new_map_c[:,:,2] = new_map_ \n",
    "    x,y = position_history[i]\n",
    "    print(x,y)\n",
    "#     if y < 0:\n",
    "#         y=y%14\n",
    "#     if x < 0:\n",
    "#         x=x%27\n",
    "#     new_map_c[int(x%27), int(y%14),0] = 1.\n",
    "#     new_map_c[int(x%27), int(y%14),1] = 1.   \n",
    "    new_map_c[int(np.clip(np.around(x),0,27)), int(np.clip(np.around(y),0,14)),0] = 1.\n",
    "    new_map_c[int(np.clip(np.around(x),0,27)), int(np.clip(np.around(y),0,14)),1] = 1.   \n",
    "    plt.figure(); plt.imshow(new_map_c);plt.title(\"Position at t={}: {},{}\"\n",
    "                                                  .format(i,position_history[i][0],position_history[i][1]))"
   ]
  },
  {
   "cell_type": "code",
   "execution_count": 89,
   "metadata": {
    "collapsed": true
   },
   "outputs": [],
   "source": [
    "## NOTES: \n",
    "## -> after changing the center to the new it should really be resmapling the weights or be  \n",
    "###### calculating the position of the user through the mean since the weightage will give the wrong \n",
    "######## results "
   ]
  },
  {
   "cell_type": "code",
   "execution_count": null,
   "metadata": {},
   "outputs": [],
   "source": []
  },
  {
   "cell_type": "code",
   "execution_count": null,
   "metadata": {},
   "outputs": [],
   "source": []
  },
  {
   "cell_type": "code",
   "execution_count": null,
   "metadata": {
    "collapsed": true
   },
   "outputs": [],
   "source": []
  },
  {
   "cell_type": "code",
   "execution_count": null,
   "metadata": {
    "collapsed": true
   },
   "outputs": [],
   "source": []
  }
 ],
 "metadata": {
  "kernelspec": {
   "display_name": "Python 3",
   "language": "python",
   "name": "python3"
  },
  "language_info": {
   "codemirror_mode": {
    "name": "ipython",
    "version": 3
   },
   "file_extension": ".py",
   "mimetype": "text/x-python",
   "name": "python",
   "nbconvert_exporter": "python",
   "pygments_lexer": "ipython3",
   "version": "3.7.0"
  }
 },
 "nbformat": 4,
 "nbformat_minor": 2
}
